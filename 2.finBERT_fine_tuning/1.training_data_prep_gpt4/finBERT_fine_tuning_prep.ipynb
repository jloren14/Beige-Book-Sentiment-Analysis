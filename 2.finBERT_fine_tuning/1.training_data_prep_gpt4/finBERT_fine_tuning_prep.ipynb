{
 "cells": [
  {
   "cell_type": "code",
   "execution_count": 14,
   "metadata": {
    "colab": {
     "base_uri": "https://localhost:8080/"
    },
    "id": "0e09rxTxcJfP",
    "outputId": "1ec61d26-21be-47ce-df6c-05437f833d95"
   },
   "outputs": [],
   "source": [
    "# from google.colab import drive\n",
    "# drive.mount('/content/drive')"
   ]
  },
  {
   "cell_type": "code",
   "execution_count": 15,
   "metadata": {
    "id": "_Hnp_8EGc0Pc"
   },
   "outputs": [],
   "source": [
    "# import os\n",
    "# os.chdir(\"/content/drive/MyDrive/BAN443_project\")"
   ]
  },
  {
   "cell_type": "markdown",
   "metadata": {
    "id": "0oLwadQ0dDd7"
   },
   "source": [
    "### Download Beige Books 1993-1996"
   ]
  },
  {
   "cell_type": "code",
   "execution_count": 16,
   "metadata": {
    "id": "-5iNw0MsdBgx"
   },
   "outputs": [],
   "source": [
    "import requests\n",
    "from bs4 import BeautifulSoup\n",
    "import numpy as np\n",
    "import pandas as pd"
   ]
  },
  {
   "cell_type": "code",
   "execution_count": 17,
   "metadata": {
    "id": "4iW7m3NcdrNX"
   },
   "outputs": [],
   "source": [
    "base_link = \"https://www.minneapolisfed.org/beige-book-reports\"\n",
    "districts = [\"at\", \"bo\", \"ch\", \"cl\", \"da\", \"kc\", \"mi\", \"ny\", \"ph\", \"ri\", \"sf\", \"sl\"]\n",
    "districts_full = {\"at\": \"Atlanta\", \"bo\": \"Boston\", \"ch\": \"Chicago\", \"cl\": \"Cleveland\", \"da\": \"Dallas\", \"kc\": \"Kansas City\",\n",
    "                  \"mi\": \"Minneapolis\", \"ny\": \"New York\", \"ph\": \"Philadelphia\", \"ri\": \"Richmond\", \"sf\": \"San Francisco\", \"sl\": \"St Louis\"}"
   ]
  },
  {
   "cell_type": "markdown",
   "metadata": {},
   "source": [
    "### Scrape the reports with BeautifulSoup"
   ]
  },
  {
   "cell_type": "code",
   "execution_count": 18,
   "metadata": {
    "id": "KkwXeDwRf1q6"
   },
   "outputs": [],
   "source": [
    "years = []\n",
    "months = []\n",
    "district_texts = []\n",
    "district_names = []\n",
    "\n",
    "for year in range(1993, 1997):\n",
    "    for month in range(1, 13):\n",
    "        link = f\"{base_link}/{year}/{year}-{month:02d}-{districts[0]}\"\n",
    "        response = requests.get(link)\n",
    "\n",
    "        if response.status_code != 200:\n",
    "            continue\n",
    "\n",
    "        for district in districts:\n",
    "            link = f\"{base_link}/{year}/{year}-{month:02d}-{district}\"\n",
    "            response = requests.get(link)\n",
    "            soup = BeautifulSoup(response.content, \"html.parser\")\n",
    "            report_area = soup.find(\"div\", class_=\"col-sm-12 col-lg-8 offset-lg-1\")\n",
    "\n",
    "            if report_area is None:\n",
    "                continue\n",
    "\n",
    "            report_text = []\n",
    "\n",
    "            for element in report_area.find_all(\"p\"):\n",
    "                if element.find(\"strong\"):  # Check for <strong> within <p>\n",
    "                    strong_text = element.find('strong').get_text(strip=True) + \"\\n\"\n",
    "                    remaining_text = element.get_text(strip=True).replace(strong_text.strip(), \"\").strip() + \"\\n\"\n",
    "                    report_text.append(strong_text + remaining_text)\n",
    "                elif element.find(\"b\"):  # Check for <b> within <p>\n",
    "                    b_text = element.find(\"b\").get_text(strip=True) + \"\\n\"\n",
    "                    remaining_text = element.get_text(strip=True).replace(b_text.strip(), \"\").strip() + \"\\n\"\n",
    "                    report_text.append(b_text + remaining_text)\n",
    "                else:\n",
    "                    report_text.append(element.get_text(strip=True))\n",
    "\n",
    "            district_report = \"\\n\".join(report_text)\n",
    "\n",
    "            years.append(year)\n",
    "            months.append(month)\n",
    "            district_names.append(districts_full[district])\n",
    "            district_texts.append(district_report)\n",
    "            "
   ]
  },
  {
   "cell_type": "markdown",
   "metadata": {},
   "source": [
    "### Combine all reports to data frame"
   ]
  },
  {
   "cell_type": "code",
   "execution_count": 19,
   "metadata": {
    "id": "H9lGL9oegAif"
   },
   "outputs": [],
   "source": [
    "reports = pd.DataFrame({\"year\": years,\n",
    "              \"month\": months,\n",
    "              \"district\": district_names,\n",
    "              \"report\": district_texts})"
   ]
  },
  {
   "cell_type": "code",
   "execution_count": 20,
   "metadata": {
    "colab": {
     "base_uri": "https://localhost:8080/",
     "height": 204
    },
    "id": "VKcyiMP1gonr",
    "outputId": "ab39244d-94e9-40f5-d7f9-e3db4efb0cd8"
   },
   "outputs": [
    {
     "data": {
      "text/html": [
       "<div>\n",
       "<style scoped>\n",
       "    .dataframe tbody tr th:only-of-type {\n",
       "        vertical-align: middle;\n",
       "    }\n",
       "\n",
       "    .dataframe tbody tr th {\n",
       "        vertical-align: top;\n",
       "    }\n",
       "\n",
       "    .dataframe thead th {\n",
       "        text-align: right;\n",
       "    }\n",
       "</style>\n",
       "<table border=\"1\" class=\"dataframe\">\n",
       "  <thead>\n",
       "    <tr style=\"text-align: right;\">\n",
       "      <th></th>\n",
       "      <th>year</th>\n",
       "      <th>month</th>\n",
       "      <th>district</th>\n",
       "      <th>report</th>\n",
       "    </tr>\n",
       "  </thead>\n",
       "  <tbody>\n",
       "    <tr>\n",
       "      <th>0</th>\n",
       "      <td>1993</td>\n",
       "      <td>1</td>\n",
       "      <td>Atlanta</td>\n",
       "      <td>‹ Back to Archive Search\\nJanuary 21, 1993\\nOv...</td>\n",
       "    </tr>\n",
       "    <tr>\n",
       "      <th>1</th>\n",
       "      <td>1993</td>\n",
       "      <td>1</td>\n",
       "      <td>Boston</td>\n",
       "      <td>‹ Back to Archive Search\\nJanuary 21, 1993\\n\\n...</td>\n",
       "    </tr>\n",
       "    <tr>\n",
       "      <th>2</th>\n",
       "      <td>1993</td>\n",
       "      <td>1</td>\n",
       "      <td>Chicago</td>\n",
       "      <td>‹ Back to Archive Search\\nJanuary 21, 1993\\n\\n...</td>\n",
       "    </tr>\n",
       "    <tr>\n",
       "      <th>3</th>\n",
       "      <td>1993</td>\n",
       "      <td>1</td>\n",
       "      <td>Cleveland</td>\n",
       "      <td>‹ Back to Archive Search\\nJanuary 21, 1993\\n\\n...</td>\n",
       "    </tr>\n",
       "    <tr>\n",
       "      <th>4</th>\n",
       "      <td>1993</td>\n",
       "      <td>1</td>\n",
       "      <td>Dallas</td>\n",
       "      <td>‹ Back to Archive Search\\nJanuary 21, 1993\\n\\n...</td>\n",
       "    </tr>\n",
       "  </tbody>\n",
       "</table>\n",
       "</div>"
      ],
      "text/plain": [
       "   year  month   district                                             report\n",
       "0  1993      1    Atlanta  ‹ Back to Archive Search\\nJanuary 21, 1993\\nOv...\n",
       "1  1993      1     Boston  ‹ Back to Archive Search\\nJanuary 21, 1993\\n\\n...\n",
       "2  1993      1    Chicago  ‹ Back to Archive Search\\nJanuary 21, 1993\\n\\n...\n",
       "3  1993      1  Cleveland  ‹ Back to Archive Search\\nJanuary 21, 1993\\n\\n...\n",
       "4  1993      1     Dallas  ‹ Back to Archive Search\\nJanuary 21, 1993\\n\\n..."
      ]
     },
     "execution_count": 20,
     "metadata": {},
     "output_type": "execute_result"
    }
   ],
   "source": [
    "reports.head()"
   ]
  },
  {
   "cell_type": "markdown",
   "metadata": {},
   "source": [
    "### Clean data frame and remove formatting marks"
   ]
  },
  {
   "cell_type": "code",
   "execution_count": null,
   "metadata": {
    "colab": {
     "base_uri": "https://localhost:8080/",
     "height": 204
    },
    "id": "SOiAa9-wgrca",
    "outputId": "62354c92-c58c-4393-b4b4-e6d88e080f10"
   },
   "outputs": [
    {
     "data": {
      "text/html": [
       "<div>\n",
       "<style scoped>\n",
       "    .dataframe tbody tr th:only-of-type {\n",
       "        vertical-align: middle;\n",
       "    }\n",
       "\n",
       "    .dataframe tbody tr th {\n",
       "        vertical-align: top;\n",
       "    }\n",
       "\n",
       "    .dataframe thead th {\n",
       "        text-align: right;\n",
       "    }\n",
       "</style>\n",
       "<table border=\"1\" class=\"dataframe\">\n",
       "  <thead>\n",
       "    <tr style=\"text-align: right;\">\n",
       "      <th></th>\n",
       "      <th>year</th>\n",
       "      <th>month</th>\n",
       "      <th>district</th>\n",
       "      <th>report</th>\n",
       "    </tr>\n",
       "  </thead>\n",
       "  <tbody>\n",
       "    <tr>\n",
       "      <th>0</th>\n",
       "      <td>1993</td>\n",
       "      <td>1</td>\n",
       "      <td>Atlanta</td>\n",
       "      <td>‹ \\nJanuary 21, 1993\\nOverviewAccording to Six...</td>\n",
       "    </tr>\n",
       "    <tr>\n",
       "      <th>1</th>\n",
       "      <td>1993</td>\n",
       "      <td>1</td>\n",
       "      <td>Boston</td>\n",
       "      <td>‹ \\nJanuary 21, 1993\\n\\n\\nEconomic activity in...</td>\n",
       "    </tr>\n",
       "    <tr>\n",
       "      <th>2</th>\n",
       "      <td>1993</td>\n",
       "      <td>1</td>\n",
       "      <td>Chicago</td>\n",
       "      <td>‹ \\nJanuary 21, 1993\\n\\n\\nSummary\\nThe Seventh...</td>\n",
       "    </tr>\n",
       "    <tr>\n",
       "      <th>3</th>\n",
       "      <td>1993</td>\n",
       "      <td>1</td>\n",
       "      <td>Cleveland</td>\n",
       "      <td>‹ \\nJanuary 21, 1993\\n\\n\\nSummary\\nBusiness ac...</td>\n",
       "    </tr>\n",
       "    <tr>\n",
       "      <th>4</th>\n",
       "      <td>1993</td>\n",
       "      <td>1</td>\n",
       "      <td>Dallas</td>\n",
       "      <td>‹ \\nJanuary 21, 1993\\n\\n\\nWhile District econo...</td>\n",
       "    </tr>\n",
       "  </tbody>\n",
       "</table>\n",
       "</div>"
      ],
      "text/plain": [
       "   year  month   district                                             report\n",
       "0  1993      1    Atlanta  ‹ \\nJanuary 21, 1993\\nOverviewAccording to Six...\n",
       "1  1993      1     Boston  ‹ \\nJanuary 21, 1993\\n\\n\\nEconomic activity in...\n",
       "2  1993      1    Chicago  ‹ \\nJanuary 21, 1993\\n\\n\\nSummary\\nThe Seventh...\n",
       "3  1993      1  Cleveland  ‹ \\nJanuary 21, 1993\\n\\n\\nSummary\\nBusiness ac...\n",
       "4  1993      1     Dallas  ‹ \\nJanuary 21, 1993\\n\\n\\nWhile District econo..."
      ]
     },
     "execution_count": 21,
     "metadata": {},
     "output_type": "execute_result"
    }
   ],
   "source": [
    "reports['report'] = reports['report'].str.replace(\"Back to Archive Search\", \"\")\n",
    "reports['report'] = reports['report'].str.replace(\"‹ \", \"\")\n",
    "reports.head()"
   ]
  },
  {
   "cell_type": "code",
   "execution_count": null,
   "metadata": {},
   "outputs": [],
   "source": [
    "reports['report'] = reports['report'].str.replace('\\r', '', regex=False).str.strip()\n",
    "reports['report'] = reports['report'].str.replace('\\n', ' ', regex=False).str.strip()"
   ]
  },
  {
   "cell_type": "code",
   "execution_count": 39,
   "metadata": {},
   "outputs": [
    {
     "name": "stdout",
     "output_type": "stream",
     "text": [
      "<class 'pandas.core.frame.DataFrame'>\n",
      "RangeIndex: 384 entries, 0 to 383\n",
      "Data columns (total 4 columns):\n",
      " #   Column    Non-Null Count  Dtype \n",
      "---  ------    --------------  ----- \n",
      " 0   year      384 non-null    int64 \n",
      " 1   month     384 non-null    int64 \n",
      " 2   district  384 non-null    object\n",
      " 3   report    384 non-null    object\n",
      "dtypes: int64(2), object(2)\n",
      "memory usage: 12.1+ KB\n"
     ]
    }
   ],
   "source": [
    "reports.info()"
   ]
  },
  {
   "cell_type": "markdown",
   "metadata": {
    "id": "iqx7wnVvhNS6"
   },
   "source": [
    "### Split the texts into sentences"
   ]
  },
  {
   "cell_type": "code",
   "execution_count": 22,
   "metadata": {
    "id": "45-9qUKrhIRH"
   },
   "outputs": [],
   "source": [
    "from nltk.tokenize.punkt import PunktSentenceTokenizer\n",
    "\n",
    "sentence_tokenizer = PunktSentenceTokenizer()\n",
    "beige_book_sentences = []\n",
    "\n",
    "for report in reports['report']:\n",
    "  sentences = sentence_tokenizer.tokenize(report)\n",
    "  for sentence in sentences:\n",
    "    beige_book_sentences.append(sentence)"
   ]
  },
  {
   "cell_type": "code",
   "execution_count": 23,
   "metadata": {
    "colab": {
     "base_uri": "https://localhost:8080/"
    },
    "id": "sX5FDNAHkoQx",
    "outputId": "dd8e00ab-ff9b-48ce-8077-abaebf242c14"
   },
   "outputs": [
    {
     "data": {
      "text/plain": [
       "25519"
      ]
     },
     "execution_count": 23,
     "metadata": {},
     "output_type": "execute_result"
    }
   ],
   "source": [
    "len(beige_book_sentences)"
   ]
  },
  {
   "cell_type": "markdown",
   "metadata": {
    "id": "5PY0al-cleZP"
   },
   "source": [
    "### Sample 10% of all sentences "
   ]
  },
  {
   "cell_type": "code",
   "execution_count": null,
   "metadata": {
    "colab": {
     "base_uri": "https://localhost:8080/"
    },
    "id": "HnO8E4DnlZIw",
    "outputId": "89679a88-317f-423d-f22f-2e1c16744934"
   },
   "outputs": [],
   "source": [
    "import random\n",
    "random.seed(42)\n",
    "\n",
    "split_index = int(0.1 * len(beige_book_sentences))\n",
    "random.shuffle(beige_book_sentences)\n",
    "\n",
    "sampled_sentences = beige_book_sentences[:split_index]"
   ]
  },
  {
   "cell_type": "markdown",
   "metadata": {
    "id": "yNR2G-wymEz7"
   },
   "source": [
    "### Label the sentences with GPT-4 API: classify the sentiment (positive, neutral, negative)"
   ]
  },
  {
   "cell_type": "code",
   "execution_count": 25,
   "metadata": {
    "id": "_vr9uhgvl_rF"
   },
   "outputs": [],
   "source": [
    "import os\n",
    "from openai import AzureOpenAI\n",
    "#from google.colab import userdata\n",
    "\n",
    "gpt_model = \"gpt-4\"\n",
    "\n",
    "client = AzureOpenAI(\n",
    "    api_key=\"4454e1ff9dc84d3e90ea5a61ce447d8f\",\n",
    "    api_version=\"2023-03-15-preview\",\n",
    "    azure_endpoint=\"https://gpt-ban443-2.openai.azure.com/openai/deployments/Group04/chat/completions?api-version=2023-03-15-preview\",\n",
    ")"
   ]
  },
  {
   "cell_type": "code",
   "execution_count": 26,
   "metadata": {
    "colab": {
     "base_uri": "https://localhost:8080/"
    },
    "id": "ZOK4Mq4Kok3s",
    "outputId": "ac88ad44-3ceb-4ae4-a94f-cc8c9a403872"
   },
   "outputs": [
    {
     "name": "stdout",
     "output_type": "stream",
     "text": [
      "Response: \n",
      " Absolutely! I'm ready to assist you with any AI analysis you need. What specific topic or area would you like to focus on?\n"
     ]
    }
   ],
   "source": [
    "# Test that everything is working\n",
    "messages = [{\"role\": \"user\", \"content\": \"Hello, ready for some AI analysis?\"}]\n",
    "response = client.chat.completions.create(model=gpt_model, messages=messages, max_tokens=50)\n",
    "\n",
    "print(\"Response: \\n\", response.choices[0].message.content)"
   ]
  },
  {
   "cell_type": "code",
   "execution_count": 28,
   "metadata": {
    "id": "UNO8AxQ4orc6"
   },
   "outputs": [],
   "source": [
    "from openai.types.chat import ChatCompletionUserMessageParam, ChatCompletionSystemMessageParam\n",
    "\n",
    "sentiment_scores = []\n",
    "\n",
    "for sentence in sampled_sentences:\n",
    "  messages = [\n",
    "      ChatCompletionSystemMessageParam(\n",
    "          role=\"system\", content=\"\"\"\n",
    "          You are a helpful assistant, fluent in analysing economic and financial reports.\n",
    "          Your main task is to analyse FED's Beige Book reports split into sentences, and estimate the sentiment of each sentence.\n",
    "          The estimated sentiment scores should be: positive, neutral, negative - nothing else.\n",
    "          When responding, give me only the sentiment score, without any parenthesis and other characters.\"\"\"\n",
    "      ),\n",
    "      ChatCompletionUserMessageParam(\n",
    "          role=\"user\", content=f\"\"\"\n",
    "          What is the sentiment score of a given sentence?\n",
    "          <data>{sentence}</data>\"\"\"\n",
    "      ),\n",
    "  ]\n",
    "\n",
    "  completion = client.chat.completions.create(model=gpt_model, messages=messages, temperature=0.2)\n",
    "  sentiment_scores.append(completion.choices[0].message.content)\n"
   ]
  },
  {
   "cell_type": "markdown",
   "metadata": {},
   "source": [
    "### Combine the results into a data frame and save them"
   ]
  },
  {
   "cell_type": "code",
   "execution_count": 29,
   "metadata": {
    "id": "T8SkIYSCq3m3"
   },
   "outputs": [
    {
     "data": {
      "text/html": [
       "<div>\n",
       "<style scoped>\n",
       "    .dataframe tbody tr th:only-of-type {\n",
       "        vertical-align: middle;\n",
       "    }\n",
       "\n",
       "    .dataframe tbody tr th {\n",
       "        vertical-align: top;\n",
       "    }\n",
       "\n",
       "    .dataframe thead th {\n",
       "        text-align: right;\n",
       "    }\n",
       "</style>\n",
       "<table border=\"1\" class=\"dataframe\">\n",
       "  <thead>\n",
       "    <tr style=\"text-align: right;\">\n",
       "      <th></th>\n",
       "      <th>sentence</th>\n",
       "      <th>sentiment</th>\n",
       "    </tr>\n",
       "  </thead>\n",
       "  <tbody>\n",
       "    <tr>\n",
       "      <th>0</th>\n",
       "      <td>In Washington, cutbacks at Boeing are \\r\\nproc...</td>\n",
       "      <td>negative</td>\n",
       "    </tr>\n",
       "    <tr>\n",
       "      <th>1</th>\n",
       "      <td>Delinquency rates \\r\\nare still rising, as the...</td>\n",
       "      <td>negative</td>\n",
       "    </tr>\n",
       "    <tr>\n",
       "      <th>2</th>\n",
       "      <td>Manufacturing\\n: Factory operations have slowe...</td>\n",
       "      <td>negative</td>\n",
       "    </tr>\n",
       "    <tr>\n",
       "      <th>3</th>\n",
       "      <td>One of the largest auto dealers in the Distric...</td>\n",
       "      <td>positive</td>\n",
       "    </tr>\n",
       "    <tr>\n",
       "      <th>4</th>\n",
       "      <td>The suburban Boston office market, by contrast...</td>\n",
       "      <td>positive</td>\n",
       "    </tr>\n",
       "  </tbody>\n",
       "</table>\n",
       "</div>"
      ],
      "text/plain": [
       "                                            sentence sentiment\n",
       "0  In Washington, cutbacks at Boeing are \\r\\nproc...  negative\n",
       "1  Delinquency rates \\r\\nare still rising, as the...  negative\n",
       "2  Manufacturing\\n: Factory operations have slowe...  negative\n",
       "3  One of the largest auto dealers in the Distric...  positive\n",
       "4  The suburban Boston office market, by contrast...  positive"
      ]
     },
     "execution_count": 29,
     "metadata": {},
     "output_type": "execute_result"
    }
   ],
   "source": [
    "training_data = pd.DataFrame({\"sentence\": sampled_sentences, \"sentiment\": sentiment_scores})\n",
    "training_data.head()"
   ]
  },
  {
   "cell_type": "code",
   "execution_count": 30,
   "metadata": {},
   "outputs": [
    {
     "data": {
      "text/plain": [
       "'One of the largest auto dealers in the District noted that \\r\\nprofitability has been improving to a somewhat greater extent than \\r\\nvolume.'"
      ]
     },
     "execution_count": 30,
     "metadata": {},
     "output_type": "execute_result"
    }
   ],
   "source": [
    "training_data.loc[3, 'sentence']"
   ]
  },
  {
   "cell_type": "code",
   "execution_count": 32,
   "metadata": {},
   "outputs": [],
   "source": [
    "training_data.to_csv(\"finBERT_training_data.csv\", index=False, sep='\\t')"
   ]
  },
  {
   "cell_type": "code",
   "execution_count": null,
   "metadata": {},
   "outputs": [],
   "source": []
  }
 ],
 "metadata": {
  "colab": {
   "provenance": []
  },
  "kernelspec": {
   "display_name": "Python 3",
   "name": "python3"
  },
  "language_info": {
   "codemirror_mode": {
    "name": "ipython",
    "version": 3
   },
   "file_extension": ".py",
   "mimetype": "text/x-python",
   "name": "python",
   "nbconvert_exporter": "python",
   "pygments_lexer": "ipython3",
   "version": "3.11.5"
  }
 },
 "nbformat": 4,
 "nbformat_minor": 0
}
